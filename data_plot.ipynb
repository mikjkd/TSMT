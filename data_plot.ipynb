{
 "cells": [
  {
   "cell_type": "code",
   "execution_count": 1,
   "metadata": {},
   "source": [
    "from math import sqrt\n",
    "import matplotlib.pyplot as plt\n",
    "import numpy as np\n",
    "import pandas as pd\n",
    "from matplotlib.pyplot import figure\n",
    "from sklearn.preprocessing import StandardScaler\n",
    "from dataset import DatasetGenerator"
   ],
   "outputs": []
  },
  {
   "cell_type": "markdown",
   "metadata": {},
   "source": [
    "## Data reading"
   ]
  },
  {
   "cell_type": "code",
   "execution_count": 2,
   "metadata": {},
   "source": [
    "olb_df = pd.read_excel('data/olb.xlsx')\n",
    "msa_df = pd.read_excel('data/msa.xlsx')\n",
    "rsam_df = pd.read_excel('data/rsam.xlsx')\n",
    "displ_df =  pd.read_excel('data/displacement.xlsx')\n",
    "bg_seism_df =  pd.read_excel('data/background_seismicity.xlsx')"
   ],
   "outputs": []
  },
  {
   "cell_type": "code",
   "execution_count": 3,
   "metadata": {},
   "source": [
    "olb_date =np.array(olb_df['date'])\n",
    "msa_date = np.array(msa_df['date'])"
   ],
   "outputs": []
  },
  {
   "cell_type": "code",
   "execution_count": 4,
   "metadata": {},
   "source": [
    "df = pd.merge(olb_df,msa_df, on='date', how='outer')\n",
    "df.columns = ['date','T_olb', 'Ru_olb','P_olb','Rn_olb','T_msa','Ru_msa','P_msa','Rn_msa']\n",
    "\n",
    "full_df = pd.merge(rsam_df, df, on='date',how='outer')\n",
    "\n",
    "full_df = pd.merge(full_df, displ_df, on='date',how='outer')\n",
    "\n",
    "full_df = pd.merge(full_df, bg_seism_df, on='date',how='outer')"
   ],
   "outputs": []
  },
  {
   "cell_type": "code",
   "execution_count": 5,
   "metadata": {},
   "source": [
    "full_df.sort_values(by='date',inplace = True)\n",
    "full_df = full_df.reset_index(drop=True)"
   ],
   "outputs": []
  },
  {
   "cell_type": "code",
   "execution_count": 6,
   "metadata": {},
   "source": [
    "df = full_df"
   ],
   "outputs": []
  },
  {
   "cell_type": "code",
   "execution_count": 7,
   "metadata": {},
   "source": [
    "dates = df['date']\n",
    "rsam = df['RSAM (m/s)']\n",
    "rn_olb = df['Rn_olb']\n",
    "rn_msa = df['Rn_msa']\n",
    "displ = df['displacement (cm)']\n",
    "bg = df['background seismicity']"
   ],
   "outputs": []
  },
  {
   "cell_type": "code",
   "execution_count": 8,
   "metadata": {},
   "source": [
    "df[~df['Rn_olb'].isnull() & df['RSAM (m/s)'].isnull()]"
   ],
   "outputs": []
  },
  {
   "cell_type": "code",
   "execution_count": 64,
   "metadata": {},
   "source": [
    "# dati dove esistono i valori di olb e msa\n",
    "#filtered_df=df[~df['T_msa'].isnull().values & ~df['T_olb'].isnull().values]\n",
    "#filtered_df.to_csv('olb_msa_notnull.csv')"
   ],
   "outputs": []
  },
  {
   "cell_type": "code",
   "execution_count": 11,
   "metadata": {},
   "source": [
    "#dati completi\n",
    "df.to_csv('data/olb_msa_full.csv', index=False)"
   ],
   "outputs": []
  },
  {
   "cell_type": "code",
   "execution_count": 10,
   "source": [
    "df.columns"
   ],
   "metadata": {
    "collapsed": false,
    "pycharm": {
     "name": "#%%\n"
    }
   },
   "outputs": []
  },
  {
   "cell_type": "markdown",
   "metadata": {},
   "source": [
    "## Data Plotting"
   ]
  },
  {
   "cell_type": "markdown",
   "metadata": {},
   "source": [
    "### Filtered df"
   ]
  },
  {
   "cell_type": "code",
   "execution_count": 67,
   "metadata": {},
   "source": [
    "date_range = filtered_df['date'].values\n",
    "y_olb= filtered_df['Rn_olb'].values\n",
    "y_msa = filtered_df['Rn_msa'].values\n",
    "y_diff = np.abs(y_olb-y_msa)"
   ],
   "outputs": []
  },
  {
   "cell_type": "code",
   "execution_count": 13,
   "metadata": {},
   "source": [
    "figure(figsize=(20,6), dpi = 80)\n",
    "plt.plot(date_range,y_olb, label='olb')\n",
    "plt.plot(date_range,y_msa, label = 'msa')\n",
    "plt.legend()\n",
    "plt.show()"
   ],
   "outputs": []
  },
  {
   "cell_type": "code",
   "execution_count": 14,
   "metadata": {},
   "source": [
    "figure(figsize=(20,6), dpi = 80)\n",
    "plt.plot(date_range,y_diff, label = 'diff')"
   ],
   "outputs": []
  },
  {
   "cell_type": "markdown",
   "metadata": {},
   "source": [
    "### Full Df"
   ]
  },
  {
   "cell_type": "code",
   "execution_count": 10,
   "metadata": {},
   "source": [
    "df"
   ],
   "outputs": []
  },
  {
   "cell_type": "code",
   "execution_count": 16,
   "metadata": {},
   "source": [
    "date = df['date'].values\n",
    "rn_olb = df['Rn_olb'].values\n",
    "rn_msa = df['Rn_msa'].values\n",
    "ru_olb = df['Ru_olb'].values\n",
    "ru_msa = df['Ru_msa'].values\n",
    "t_olb = df['T_olb'].values\n",
    "t_msa = df['T_msa'].values\n",
    "p_olb = df['P_olb'].values\n",
    "p_msa = df['P_msa'].values\n",
    "rsam = df['RSAM (m/s)'].values\n",
    "displacement = df['displacement (cm)'].values\n",
    "background = df['background seismicity'].values\n"
   ],
   "outputs": []
  },
  {
   "cell_type": "code",
   "execution_count": 17,
   "metadata": {},
   "source": [
    "\n",
    "figure(figsize=(20,6), dpi = 80)\n",
    "plt.plot(date,rn_olb, label='olb')\n",
    "plt.plot(date,rn_msa,label='msa')\n",
    "plt.legend()\n",
    "plt.show()\n"
   ],
   "outputs": []
  },
  {
   "cell_type": "code",
   "execution_count": 24,
   "metadata": {},
   "source": [
    "fig, (ax1, ax2, ax3,ax4, ax5) = plt.subplots(5,figsize=(20,10))\n",
    "fig.suptitle('Olibano plots')\n",
    "ax1.plot(date, rn_olb, label = 'RN')\n",
    "ax1.legend()\n",
    "ax2.plot(date,t_olb, label='T')\n",
    "ax2.legend()\n",
    "ax3.plot(date,p_olb, label = 'P')\n",
    "ax3.legend()\n",
    "ax4.plot(date,rsam,  label = 'rsam')\n",
    "ax4.legend()\n",
    "ax5.plot(date,ru_olb,  label = 'ru')\n",
    "ax5.legend()\n"
   ],
   "outputs": []
  },
  {
   "cell_type": "markdown",
   "metadata": {},
   "source": [
    "#### Statistiche"
   ]
  },
  {
   "cell_type": "code",
   "execution_count": 54,
   "metadata": {},
   "source": [
    "df"
   ],
   "outputs": []
  },
  {
   "cell_type": "code",
   "execution_count": 39,
   "metadata": {},
   "source": [
    "df.describe()"
   ],
   "outputs": []
  },
  {
   "cell_type": "markdown",
   "metadata": {},
   "source": [
    "## Data Cleaning"
   ]
  },
  {
   "cell_type": "code",
   "execution_count": 16,
   "metadata": {},
   "source": [
    "df.loc[df[df['Rn_msa'].isnull()]['Rn_msa'].index,'Rn_msa']=0"
   ],
   "outputs": []
  },
  {
   "cell_type": "code",
   "execution_count": 17,
   "metadata": {},
   "source": [
    "df.loc[df[df['Rn_olb'].isnull()]['Rn_olb'].index,'Rn_olb'] = 0"
   ],
   "outputs": []
  },
  {
   "cell_type": "code",
   "execution_count": 18,
   "metadata": {},
   "source": [
    "#full df \n",
    "\n",
    "full_df_date = df['date'].values\n",
    "full_y_olb = df['Rn_olb'].values\n",
    "full_y_msa = df['Rn_msa'].values\n",
    "full_y_diff = np.abs(full_y_olb-full_y_msa)"
   ],
   "outputs": []
  },
  {
   "cell_type": "code",
   "execution_count": 19,
   "metadata": {},
   "source": [
    "figure(figsize=(20,6), dpi = 80)\n",
    "plt.plot(full_df_date,full_y_olb, label='olb')\n",
    "plt.plot(full_df_date,full_y_msa,label='msa')\n",
    "plt.legend()\n",
    "plt.show()"
   ],
   "outputs": []
  },
  {
   "cell_type": "code",
   "execution_count": 20,
   "metadata": {},
   "source": [
    "figure(figsize=(20,6), dpi = 80)\n",
    "\n",
    "plt.plot(full_df_date,full_y_diff,label='diff')\n"
   ],
   "outputs": []
  },
  {
   "cell_type": "markdown",
   "metadata": {},
   "source": [
    "### Standardizzo la time-series di OLB in modo da vedere il trend"
   ]
  },
  {
   "cell_type": "code",
   "execution_count": 22,
   "metadata": {},
   "source": [
    "full_y_olb = full_y_olb.reshape(len(full_y_olb),1)"
   ],
   "outputs": []
  },
  {
   "cell_type": "code",
   "execution_count": 31,
   "metadata": {},
   "source": [
    "full_y_msa = full_y_msa.reshape(len(full_y_msa),1)"
   ],
   "outputs": []
  },
  {
   "cell_type": "code",
   "execution_count": 33,
   "metadata": {},
   "source": [
    "olb_scaler = StandardScaler()\n",
    "olb_scaler = olb_scaler.fit(full_y_olb)\n",
    "print('Mean: %f, StandardDeviation: %f' % (olb_scaler.mean_, sqrt(olb_scaler.var_)))\n",
    "# standardization the dataset and print the first 5 rows\n",
    "olb_normalized = olb_scaler.transform(full_y_olb)"
   ],
   "outputs": []
  },
  {
   "cell_type": "code",
   "execution_count": 34,
   "metadata": {},
   "source": [
    "msa_scaler = StandardScaler()\n",
    "msa_scaler = msa_scaler.fit(full_y_msa)\n",
    "print('Mean: %f, StandardDeviation: %f' % (msa_scaler.mean_, sqrt(msa_scaler.var_)))\n",
    "# standardization the dataset and print the first 5 rows\n",
    "msa_normalized = msa_scaler.transform(full_y_msa)"
   ],
   "outputs": []
  },
  {
   "cell_type": "code",
   "execution_count": 36,
   "metadata": {},
   "source": [
    "figure(figsize=(20,6), dpi = 80)\n",
    "plt.plot(full_df_date,olb_normalized,label='normalized_val')\n",
    "plt.plot(full_df_date,msa_normalized,label='normalized_val')"
   ],
   "outputs": []
  },
  {
   "cell_type": "code",
   "execution_count": 40,
   "metadata": {},
   "source": [
    "figure(figsize=(20,6), dpi = 80)\n",
    "plt.plot(full_df_date,np.abs(olb_normalized-msa_normalized),label='diff')\n"
   ],
   "outputs": []
  },
  {
   "cell_type": "code",
   "execution_count": 41,
   "metadata": {},
   "source": [
    "full_inversed = olb_scaler.inverse_transform(np.abs(olb_normalized-msa_normalized))"
   ],
   "outputs": []
  },
  {
   "cell_type": "code",
   "execution_count": 73,
   "metadata": {},
   "source": [
    "figure(figsize=(20,6), dpi = 80)\n",
    "plt.plot(full_df_date,full_inversed, label='full_inversed')\n"
   ],
   "outputs": []
  },
  {
   "cell_type": "code",
   "execution_count": 83,
   "metadata": {},
   "source": [
    "figure(figsize=(20,6), dpi = 80)\n",
    "plt.plot(full_df_date,full_inversed - 25000, label='full_inversed')\n",
    "plt.plot(full_df_date,full_y_olb, label='olb')\n",
    "plt.legend()\n",
    "#plt.plot(full_df_date,full_y_msa, label='msa')\n"
   ],
   "outputs": []
  },
  {
   "cell_type": "markdown",
   "metadata": {},
   "source": []
  }
 ],
 "metadata": {
  "kernelspec": {
   "display_name": "PyCharm (codice)",
   "language": "python",
   "name": "pycharm-891dc546"
  },
  "language_info": {
   "codemirror_mode": {
    "name": "ipython",
    "version": 3
   },
   "file_extension": ".py",
   "mimetype": "text/x-python",
   "name": "python",
   "nbconvert_exporter": "python",
   "pygments_lexer": "ipython3",
   "version": "3.9.7"
  }
 },
 "nbformat": 4,
 "nbformat_minor": 2
}
